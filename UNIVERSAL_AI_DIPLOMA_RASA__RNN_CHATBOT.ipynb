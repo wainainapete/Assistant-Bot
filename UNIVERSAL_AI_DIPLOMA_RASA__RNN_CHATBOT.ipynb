{
  "nbformat": 4,
  "nbformat_minor": 0,
  "metadata": {
    "colab": {
      "name": "UNIVERSAL_AI_DIPLOMA__RASA__RNN_CHATBOT",
      "provenance": [],
      "collapsed_sections": [],
      "include_colab_link": true
    },
    "kernelspec": {
      "display_name": "Python 3",
      "name": "python3"
    },
    "language_info": {
      "name": "python"
    }
  },
  "cells": [
    {
      "cell_type": "markdown",
      "metadata": {
        "id": "view-in-github",
        "colab_type": "text"
      },
      "source": [
        "<a href=\"https://colab.research.google.com/github/wainainapete/Assistant-Bot/blob/main/UNIVERSAL_AI_DIPLOMA_RASA____RNN_CHATBOT.ipynb\" target=\"_parent\"><img src=\"https://colab.research.google.com/assets/colab-badge.svg\" alt=\"Open In Colab\"/></a>"
      ]
    },
    {
      "cell_type": "markdown",
      "metadata": {
        "id": "O_4inZqRQJ0t"
      },
      "source": [
        "# Modified by God Bennett to remove setup errors, and give the bot ability to respond to medicine inquiries.\n",
        "\n",
        "Your goal: Change the bot to respond to a topic of your choice. Follow instructions here: https://medium.com/@godquestbennett/universal-ai-diploma-ibm-cloud-assistant-recurrent-neural-network-alternative-e42ce4d02a6d\n",
        "\n",
        "# Note: Before running any cell, be sure to change the chatbot as directed above to customize it based on your topic.\n",
        "\n"
      ]
    },
    {
      "cell_type": "markdown",
      "source": [
        "Original: https://medium.com/analytics-vidhya/building-a-rasa-chat-bot-on-google-colab-2ff6ac02dd26"
      ],
      "metadata": {
        "id": "slt9lMfOh00w"
      }
    },
    {
      "cell_type": "code",
      "metadata": {
        "colab": {
          "base_uri": "https://localhost:8080/"
        },
        "id": "fnltCoO6SUI8",
        "outputId": "6bc937d1-506b-4b29-a79f-fadf6d86c839"
      },
      "source": [
        "!pip install nest_asyncio==1.3.3"
      ],
      "execution_count": null,
      "outputs": [
        {
          "output_type": "stream",
          "name": "stdout",
          "text": [
            "Collecting nest_asyncio==1.3.3\n",
            "  Downloading nest_asyncio-1.3.3-py3-none-any.whl (4.7 kB)\n",
            "Installing collected packages: nest-asyncio\n",
            "  Attempting uninstall: nest-asyncio\n",
            "    Found existing installation: nest-asyncio 1.5.4\n",
            "    Uninstalling nest-asyncio-1.5.4:\n",
            "      Successfully uninstalled nest-asyncio-1.5.4\n",
            "\u001b[31mERROR: pip's dependency resolver does not currently take into account all the packages that are installed. This behaviour is the source of the following dependency conflicts.\n",
            "nbclient 0.5.10 requires jupyter-client>=6.1.5, but you have jupyter-client 5.3.5 which is incompatible.\u001b[0m\n",
            "Successfully installed nest-asyncio-1.3.3\n"
          ]
        }
      ]
    },
    {
      "cell_type": "code",
      "source": [
        "!pip uninstall tensorflow"
      ],
      "metadata": {
        "colab": {
          "base_uri": "https://localhost:8080/"
        },
        "id": "VOvps8nnjcPP",
        "outputId": "00f76d4d-a05a-4844-d6fc-410a96b38d5f"
      },
      "execution_count": null,
      "outputs": [
        {
          "metadata": {
            "tags": null
          },
          "name": "stdout",
          "output_type": "stream",
          "text": [
            "Found existing installation: tensorflow 1.13.2\n",
            "Uninstalling tensorflow-1.13.2:\n",
            "  Would remove:\n",
            "    /usr/local/bin/freeze_graph\n",
            "    /usr/local/bin/saved_model_cli\n",
            "    /usr/local/bin/tensorboard\n",
            "    /usr/local/bin/tf_upgrade_v2\n",
            "    /usr/local/bin/tflite_convert\n",
            "    /usr/local/bin/toco\n",
            "    /usr/local/bin/toco_from_protos\n",
            "    /usr/local/lib/python3.7/dist-packages/tensorflow-1.13.2.dist-info/*\n",
            "    /usr/local/lib/python3.7/dist-packages/tensorflow/*\n",
            "Proceed (y/n)? "
          ]
        }
      ]
    },
    {
      "cell_type": "code",
      "metadata": {
        "colab": {
          "base_uri": "https://localhost:8080/"
        },
        "id": "eA0eQR2haCUa",
        "outputId": "212c5136-3524-4504-9da2-d2d9595a5c79"
      },
      "source": [
        "!pip install rasa_nlu[spacy]  #restart runtime after installation and rerun previous cells.\n"
      ],
      "execution_count": null,
      "outputs": [
        {
          "output_type": "stream",
          "name": "stdout",
          "text": [
            "Requirement already satisfied: rasa_nlu[spacy] in /usr/local/lib/python3.7/dist-packages (0.15.1)\n",
            "Requirement already satisfied: klein~=17.10 in /usr/local/lib/python3.7/dist-packages (from rasa_nlu[spacy]) (17.10.0)\n",
            "Requirement already satisfied: requests~=2.20 in /usr/local/lib/python3.7/dist-packages (from rasa_nlu[spacy]) (2.23.0)\n",
            "Requirement already satisfied: future~=0.17.1 in /usr/local/lib/python3.7/dist-packages (from rasa_nlu[spacy]) (0.17.1)\n",
            "Requirement already satisfied: scikit-learn~=0.20.2 in /usr/local/lib/python3.7/dist-packages (from rasa_nlu[spacy]) (0.20.4)\n",
            "Requirement already satisfied: simplejson~=3.13 in /usr/local/lib/python3.7/dist-packages (from rasa_nlu[spacy]) (3.17.6)\n",
            "Requirement already satisfied: cloudpickle~=0.6.1 in /usr/local/lib/python3.7/dist-packages (from rasa_nlu[spacy]) (0.6.1)\n",
            "Requirement already satisfied: matplotlib~=2.2 in /usr/local/lib/python3.7/dist-packages (from rasa_nlu[spacy]) (2.2.5)\n",
            "Requirement already satisfied: jsonschema~=2.6 in /usr/local/lib/python3.7/dist-packages (from rasa_nlu[spacy]) (2.6.0)\n",
            "Requirement already satisfied: packaging~=18.0 in /usr/local/lib/python3.7/dist-packages (from rasa_nlu[spacy]) (18.0)\n",
            "Requirement already satisfied: boto3~=1.9 in /usr/local/lib/python3.7/dist-packages (from rasa_nlu[spacy]) (1.20.52)\n",
            "Requirement already satisfied: gevent~=1.3 in /usr/local/lib/python3.7/dist-packages (from rasa_nlu[spacy]) (1.5.0)\n",
            "Requirement already satisfied: numpy>=1.16 in /usr/local/lib/python3.7/dist-packages (from rasa_nlu[spacy]) (1.19.5)\n",
            "Requirement already satisfied: ruamel.yaml~=0.15.7 in /usr/local/lib/python3.7/dist-packages (from rasa_nlu[spacy]) (0.15.100)\n",
            "Requirement already satisfied: coloredlogs~=10.0 in /usr/local/lib/python3.7/dist-packages (from rasa_nlu[spacy]) (10.0)\n",
            "Requirement already satisfied: typing~=3.6 in /usr/local/lib/python3.7/dist-packages (from rasa_nlu[spacy]) (3.7.4.3)\n",
            "Requirement already satisfied: tqdm~=4.19 in /usr/local/lib/python3.7/dist-packages (from rasa_nlu[spacy]) (4.62.3)\n",
            "Requirement already satisfied: spacy<=2.0.18,>2.0 in /usr/local/lib/python3.7/dist-packages (from rasa_nlu[spacy]) (2.0.18)\n",
            "Requirement already satisfied: scipy~=1.2 in /usr/local/lib/python3.7/dist-packages (from rasa_nlu[spacy]) (1.4.1)\n",
            "Requirement already satisfied: sklearn-crfsuite~=0.3.6 in /usr/local/lib/python3.7/dist-packages (from rasa_nlu[spacy]) (0.3.6)\n",
            "Requirement already satisfied: botocore<1.24.0,>=1.23.52 in /usr/local/lib/python3.7/dist-packages (from boto3~=1.9->rasa_nlu[spacy]) (1.23.52)\n",
            "Requirement already satisfied: jmespath<1.0.0,>=0.7.1 in /usr/local/lib/python3.7/dist-packages (from boto3~=1.9->rasa_nlu[spacy]) (0.10.0)\n",
            "Requirement already satisfied: s3transfer<0.6.0,>=0.5.0 in /usr/local/lib/python3.7/dist-packages (from boto3~=1.9->rasa_nlu[spacy]) (0.5.1)\n",
            "Requirement already satisfied: python-dateutil<3.0.0,>=2.1 in /usr/local/lib/python3.7/dist-packages (from botocore<1.24.0,>=1.23.52->boto3~=1.9->rasa_nlu[spacy]) (2.8.2)\n",
            "Requirement already satisfied: urllib3<1.27,>=1.25.4 in /usr/local/lib/python3.7/dist-packages (from botocore<1.24.0,>=1.23.52->boto3~=1.9->rasa_nlu[spacy]) (1.25.11)\n",
            "Requirement already satisfied: humanfriendly>=4.7 in /usr/local/lib/python3.7/dist-packages (from coloredlogs~=10.0->rasa_nlu[spacy]) (10.0)\n",
            "Requirement already satisfied: greenlet>=0.4.14 in /usr/local/lib/python3.7/dist-packages (from gevent~=1.3->rasa_nlu[spacy]) (1.1.2)\n",
            "Requirement already satisfied: werkzeug in /usr/local/lib/python3.7/dist-packages (from klein~=17.10->rasa_nlu[spacy]) (1.0.1)\n",
            "Requirement already satisfied: Twisted>=15.5 in /usr/local/lib/python3.7/dist-packages (from klein~=17.10->rasa_nlu[spacy]) (22.1.0)\n",
            "Requirement already satisfied: six in /usr/local/lib/python3.7/dist-packages (from klein~=17.10->rasa_nlu[spacy]) (1.15.0)\n",
            "Requirement already satisfied: incremental in /usr/local/lib/python3.7/dist-packages (from klein~=17.10->rasa_nlu[spacy]) (21.3.0)\n",
            "Requirement already satisfied: kiwisolver>=1.0.1 in /usr/local/lib/python3.7/dist-packages (from matplotlib~=2.2->rasa_nlu[spacy]) (1.3.2)\n",
            "Requirement already satisfied: pyparsing!=2.0.4,!=2.1.2,!=2.1.6,>=2.0.1 in /usr/local/lib/python3.7/dist-packages (from matplotlib~=2.2->rasa_nlu[spacy]) (3.0.7)\n",
            "Requirement already satisfied: pytz in /usr/local/lib/python3.7/dist-packages (from matplotlib~=2.2->rasa_nlu[spacy]) (2018.9)\n",
            "Requirement already satisfied: cycler>=0.10 in /usr/local/lib/python3.7/dist-packages (from matplotlib~=2.2->rasa_nlu[spacy]) (0.11.0)\n",
            "Requirement already satisfied: chardet<4,>=3.0.2 in /usr/local/lib/python3.7/dist-packages (from requests~=2.20->rasa_nlu[spacy]) (3.0.4)\n",
            "Requirement already satisfied: certifi>=2017.4.17 in /usr/local/lib/python3.7/dist-packages (from requests~=2.20->rasa_nlu[spacy]) (2021.10.8)\n",
            "Requirement already satisfied: idna<3,>=2.5 in /usr/local/lib/python3.7/dist-packages (from requests~=2.20->rasa_nlu[spacy]) (2.10)\n",
            "Requirement already satisfied: python-crfsuite>=0.8.3 in /usr/local/lib/python3.7/dist-packages (from sklearn-crfsuite~=0.3.6->rasa_nlu[spacy]) (0.9.7)\n",
            "Requirement already satisfied: tabulate in /usr/local/lib/python3.7/dist-packages (from sklearn-crfsuite~=0.3.6->rasa_nlu[spacy]) (0.8.9)\n",
            "Requirement already satisfied: thinc<6.13.0,>=6.12.1 in /usr/local/lib/python3.7/dist-packages (from spacy<=2.0.18,>2.0->rasa_nlu[spacy]) (6.12.1)\n",
            "Requirement already satisfied: plac<1.0.0,>=0.9.6 in /usr/local/lib/python3.7/dist-packages (from spacy<=2.0.18,>2.0->rasa_nlu[spacy]) (0.9.6)\n",
            "Requirement already satisfied: murmurhash<1.1.0,>=0.28.0 in /usr/local/lib/python3.7/dist-packages (from spacy<=2.0.18,>2.0->rasa_nlu[spacy]) (1.0.6)\n",
            "Requirement already satisfied: preshed<2.1.0,>=2.0.1 in /usr/local/lib/python3.7/dist-packages (from spacy<=2.0.18,>2.0->rasa_nlu[spacy]) (2.0.1)\n",
            "Requirement already satisfied: dill<0.3,>=0.2 in /usr/local/lib/python3.7/dist-packages (from spacy<=2.0.18,>2.0->rasa_nlu[spacy]) (0.2.9)\n",
            "Requirement already satisfied: cymem<2.1.0,>=2.0.2 in /usr/local/lib/python3.7/dist-packages (from spacy<=2.0.18,>2.0->rasa_nlu[spacy]) (2.0.6)\n",
            "Requirement already satisfied: ujson>=1.35 in /usr/local/lib/python3.7/dist-packages (from spacy<=2.0.18,>2.0->rasa_nlu[spacy]) (5.1.0)\n",
            "Requirement already satisfied: regex==2018.01.10 in /usr/local/lib/python3.7/dist-packages (from spacy<=2.0.18,>2.0->rasa_nlu[spacy]) (2018.1.10)\n",
            "Requirement already satisfied: wrapt<1.11.0,>=1.10.0 in /usr/local/lib/python3.7/dist-packages (from thinc<6.13.0,>=6.12.1->spacy<=2.0.18,>2.0->rasa_nlu[spacy]) (1.10.11)\n",
            "Requirement already satisfied: cytoolz<0.10,>=0.9.0 in /usr/local/lib/python3.7/dist-packages (from thinc<6.13.0,>=6.12.1->spacy<=2.0.18,>2.0->rasa_nlu[spacy]) (0.9.0.1)\n",
            "Requirement already satisfied: msgpack<0.6.0,>=0.5.6 in /usr/local/lib/python3.7/dist-packages (from thinc<6.13.0,>=6.12.1->spacy<=2.0.18,>2.0->rasa_nlu[spacy]) (0.5.6)\n",
            "Requirement already satisfied: msgpack-numpy<0.4.4 in /usr/local/lib/python3.7/dist-packages (from thinc<6.13.0,>=6.12.1->spacy<=2.0.18,>2.0->rasa_nlu[spacy]) (0.4.3.2)\n",
            "Requirement already satisfied: toolz>=0.8.0 in /usr/local/lib/python3.7/dist-packages (from cytoolz<0.10,>=0.9.0->thinc<6.13.0,>=6.12.1->spacy<=2.0.18,>2.0->rasa_nlu[spacy]) (0.11.2)\n",
            "Requirement already satisfied: zope.interface>=4.4.2 in /usr/local/lib/python3.7/dist-packages (from Twisted>=15.5->klein~=17.10->rasa_nlu[spacy]) (5.4.0)\n",
            "Requirement already satisfied: Automat>=0.8.0 in /usr/local/lib/python3.7/dist-packages (from Twisted>=15.5->klein~=17.10->rasa_nlu[spacy]) (20.2.0)\n",
            "Requirement already satisfied: hyperlink>=17.1.1 in /usr/local/lib/python3.7/dist-packages (from Twisted>=15.5->klein~=17.10->rasa_nlu[spacy]) (21.0.0)\n",
            "Requirement already satisfied: attrs>=19.2.0 in /usr/local/lib/python3.7/dist-packages (from Twisted>=15.5->klein~=17.10->rasa_nlu[spacy]) (21.4.0)\n",
            "Requirement already satisfied: constantly>=15.1 in /usr/local/lib/python3.7/dist-packages (from Twisted>=15.5->klein~=17.10->rasa_nlu[spacy]) (15.1.0)\n",
            "Requirement already satisfied: typing-extensions>=3.6.5 in /usr/local/lib/python3.7/dist-packages (from Twisted>=15.5->klein~=17.10->rasa_nlu[spacy]) (3.10.0.2)\n",
            "Requirement already satisfied: setuptools in /usr/local/lib/python3.7/dist-packages (from zope.interface>=4.4.2->Twisted>=15.5->klein~=17.10->rasa_nlu[spacy]) (57.4.0)\n"
          ]
        }
      ]
    },
    {
      "cell_type": "code",
      "metadata": {
        "colab": {
          "base_uri": "https://localhost:8080/"
        },
        "id": "vi-wAAb3bAXv",
        "outputId": "d4d310fc-56a9-45fa-ca23-eeb6bf630a07"
      },
      "source": [
        "\n",
        "!pip install rasa_core"
      ],
      "execution_count": null,
      "outputs": [
        {
          "output_type": "stream",
          "name": "stdout",
          "text": [
            "Collecting rasa_core\n",
            "  Downloading rasa_core-0.14.5-py3-none-any.whl (212 kB)\n",
            "\u001b[?25l\r\u001b[K     |█▌                              | 10 kB 16.6 MB/s eta 0:00:01\r\u001b[K     |███                             | 20 kB 21.9 MB/s eta 0:00:01\r\u001b[K     |████▋                           | 30 kB 26.7 MB/s eta 0:00:01\r\u001b[K     |██████▏                         | 40 kB 27.8 MB/s eta 0:00:01\r\u001b[K     |███████▊                        | 51 kB 30.4 MB/s eta 0:00:01\r\u001b[K     |█████████▎                      | 61 kB 27.1 MB/s eta 0:00:01\r\u001b[K     |██████████▉                     | 71 kB 21.1 MB/s eta 0:00:01\r\u001b[K     |████████████▍                   | 81 kB 22.4 MB/s eta 0:00:01\r\u001b[K     |█████████████▉                  | 92 kB 21.8 MB/s eta 0:00:01\r\u001b[K     |███████████████▍                | 102 kB 23.0 MB/s eta 0:00:01\r\u001b[K     |█████████████████               | 112 kB 23.0 MB/s eta 0:00:01\r\u001b[K     |██████████████████▌             | 122 kB 23.0 MB/s eta 0:00:01\r\u001b[K     |████████████████████            | 133 kB 23.0 MB/s eta 0:00:01\r\u001b[K     |█████████████████████▋          | 143 kB 23.0 MB/s eta 0:00:01\r\u001b[K     |███████████████████████▏        | 153 kB 23.0 MB/s eta 0:00:01\r\u001b[K     |████████████████████████▊       | 163 kB 23.0 MB/s eta 0:00:01\r\u001b[K     |██████████████████████████▏     | 174 kB 23.0 MB/s eta 0:00:01\r\u001b[K     |███████████████████████████▊    | 184 kB 23.0 MB/s eta 0:00:01\r\u001b[K     |█████████████████████████████▎  | 194 kB 23.0 MB/s eta 0:00:01\r\u001b[K     |██████████████████████████████▉ | 204 kB 23.0 MB/s eta 0:00:01\r\u001b[K     |████████████████████████████████| 212 kB 23.0 MB/s \n",
            "\u001b[?25hRequirement already satisfied: networkx~=2.2 in /usr/local/lib/python3.7/dist-packages (from rasa_core) (2.6.3)\n",
            "Requirement already satisfied: typing~=3.0 in /usr/local/lib/python3.7/dist-packages (from rasa_core) (3.7.4.3)\n",
            "Requirement already satisfied: requests~=2.20 in /usr/local/lib/python3.7/dist-packages (from rasa_core) (2.23.0)\n",
            "Collecting flask-jwt-simple~=0.0.3\n",
            "  Downloading Flask-JWT-Simple-0.0.3.tar.gz (6.9 kB)\n",
            "Collecting webexteamssdk~=1.0\n",
            "  Downloading webexteamssdk-1.6-py3-none-any.whl (113 kB)\n",
            "\u001b[K     |████████████████████████████████| 113 kB 48.0 MB/s \n",
            "\u001b[?25hCollecting terminaltables~=3.1\n",
            "  Downloading terminaltables-3.1.10-py2.py3-none-any.whl (15 kB)\n",
            "Requirement already satisfied: gevent~=1.3 in /usr/local/lib/python3.7/dist-packages (from rasa_core) (1.5.0)\n",
            "Requirement already satisfied: coloredlogs~=10.0 in /usr/local/lib/python3.7/dist-packages (from rasa_core) (10.0)\n",
            "Collecting fbmessenger~=5.0\n",
            "  Downloading fbmessenger-5.6.0-py2.py3-none-any.whl (11 kB)\n",
            "Collecting tensorflow~=1.13.0\n",
            "  Downloading tensorflow-1.13.2-cp37-cp37m-manylinux1_x86_64.whl (92.7 MB)\n",
            "\u001b[K     |████████████████████████████████| 92.7 MB 1.3 MB/s \n",
            "\u001b[?25hRequirement already satisfied: pytz~=2018.9 in /usr/local/lib/python3.7/dist-packages (from rasa_core) (2018.9)\n",
            "Requirement already satisfied: numpy~=1.16 in /usr/local/lib/python3.7/dist-packages (from rasa_core) (1.19.5)\n",
            "Collecting pika~=0.12.0\n",
            "  Downloading pika-0.12.0-py2.py3-none-any.whl (108 kB)\n",
            "\u001b[K     |████████████████████████████████| 108 kB 56.2 MB/s \n",
            "\u001b[?25hRequirement already satisfied: rasa-nlu~=0.15 in /usr/local/lib/python3.7/dist-packages (from rasa_core) (0.15.1)\n",
            "Collecting rocketchat-API~=0.6.0\n",
            "  Downloading rocketchat_API-0.6.36-py3-none-any.whl (9.5 kB)\n",
            "Requirement already satisfied: packaging~=18.0 in /usr/local/lib/python3.7/dist-packages (from rasa_core) (18.0)\n",
            "Collecting python-socketio~=3.0\n",
            "  Downloading python_socketio-3.1.2-py2.py3-none-any.whl (43 kB)\n",
            "\u001b[K     |████████████████████████████████| 43 kB 1.9 MB/s \n",
            "\u001b[?25hRequirement already satisfied: tqdm~=4.0 in /usr/local/lib/python3.7/dist-packages (from rasa_core) (4.62.3)\n",
            "Collecting apscheduler~=3.0\n",
            "  Downloading APScheduler-3.8.1-py2.py3-none-any.whl (59 kB)\n",
            "\u001b[K     |████████████████████████████████| 59 kB 6.4 MB/s \n",
            "\u001b[?25hRequirement already satisfied: flask~=1.0 in /usr/local/lib/python3.7/dist-packages (from rasa_core) (1.1.4)\n",
            "Collecting pykwalify~=1.7.0\n",
            "  Downloading pykwalify-1.7.0-py2.py3-none-any.whl (40 kB)\n",
            "\u001b[K     |████████████████████████████████| 40 kB 4.9 MB/s \n",
            "\u001b[?25hRequirement already satisfied: python-dateutil~=2.7 in /usr/local/lib/python3.7/dist-packages (from rasa_core) (2.8.2)\n",
            "Requirement already satisfied: jsonschema~=2.6 in /usr/local/lib/python3.7/dist-packages (from rasa_core) (2.6.0)\n",
            "Requirement already satisfied: ruamel.yaml~=0.15.0 in /usr/local/lib/python3.7/dist-packages (from rasa_core) (0.15.100)\n",
            "Requirement already satisfied: scipy~=1.2 in /usr/local/lib/python3.7/dist-packages (from rasa_core) (1.4.1)\n",
            "Collecting flask-cors~=3.0\n",
            "  Downloading Flask_Cors-3.0.10-py2.py3-none-any.whl (14 kB)\n",
            "Collecting colorclass~=2.2\n",
            "  Downloading colorclass-2.2.2-py2.py3-none-any.whl (18 kB)\n",
            "Collecting jsonpickle~=1.0\n",
            "  Downloading jsonpickle-1.5.2-py2.py3-none-any.whl (37 kB)\n",
            "Collecting pydot~=1.4\n",
            "  Downloading pydot-1.4.2-py2.py3-none-any.whl (21 kB)\n",
            "Requirement already satisfied: scikit-learn~=0.20.0 in /usr/local/lib/python3.7/dist-packages (from rasa_core) (0.20.4)\n",
            "Collecting questionary>=1.0.1\n",
            "  Downloading questionary-1.10.0-py3-none-any.whl (31 kB)\n",
            "Collecting redis~=2.0\n",
            "  Downloading redis-2.10.6-py2.py3-none-any.whl (64 kB)\n",
            "\u001b[K     |████████████████████████████████| 64 kB 3.2 MB/s \n",
            "\u001b[?25hCollecting slackclient~=1.0\n",
            "  Downloading slackclient-1.3.2.tar.gz (16 kB)\n",
            "Collecting python-telegram-bot~=11.0\n",
            "  Downloading python_telegram_bot-11.1.0-py2.py3-none-any.whl (326 kB)\n",
            "\u001b[K     |████████████████████████████████| 326 kB 52.0 MB/s \n",
            "\u001b[?25hCollecting mattermostwrapper~=2.0\n",
            "  Downloading mattermostwrapper-2.2.tar.gz (2.5 kB)\n",
            "Collecting pymongo~=3.7\n",
            "  Downloading pymongo-3.12.3-cp37-cp37m-manylinux_2_17_x86_64.manylinux2014_x86_64.whl (508 kB)\n",
            "\u001b[K     |████████████████████████████████| 508 kB 46.2 MB/s \n",
            "\u001b[?25hCollecting fakeredis~=0.10.0\n",
            "  Downloading fakeredis-0.10.3-py2.py3-none-any.whl (27 kB)\n",
            "Collecting colorhash~=1.0\n",
            "  Downloading colorhash-1.0.4-py3-none-any.whl (5.5 kB)\n",
            "Collecting twilio~=6.0\n",
            "  Downloading twilio-6.63.2.tar.gz (490 kB)\n",
            "\u001b[K     |████████████████████████████████| 490 kB 46.3 MB/s \n",
            "\u001b[?25hCollecting rasa-core-sdk~=0.14\n",
            "  Downloading rasa_core_sdk-0.14.0-py2.py3-none-any.whl (20 kB)\n",
            "Requirement already satisfied: setuptools>=0.7 in /usr/local/lib/python3.7/dist-packages (from apscheduler~=3.0->rasa_core) (57.4.0)\n",
            "Requirement already satisfied: six>=1.4.0 in /usr/local/lib/python3.7/dist-packages (from apscheduler~=3.0->rasa_core) (1.15.0)\n",
            "Collecting tzlocal!=3.*,>=2.0\n",
            "  Downloading tzlocal-4.1-py3-none-any.whl (19 kB)\n",
            "Requirement already satisfied: humanfriendly>=4.7 in /usr/local/lib/python3.7/dist-packages (from coloredlogs~=10.0->rasa_core) (10.0)\n",
            "Requirement already satisfied: itsdangerous<2.0,>=0.24 in /usr/local/lib/python3.7/dist-packages (from flask~=1.0->rasa_core) (1.1.0)\n",
            "Requirement already satisfied: click<8.0,>=5.1 in /usr/local/lib/python3.7/dist-packages (from flask~=1.0->rasa_core) (7.1.2)\n",
            "Requirement already satisfied: Werkzeug<2.0,>=0.15 in /usr/local/lib/python3.7/dist-packages (from flask~=1.0->rasa_core) (1.0.1)\n",
            "Requirement already satisfied: Jinja2<3.0,>=2.10.1 in /usr/local/lib/python3.7/dist-packages (from flask~=1.0->rasa_core) (2.11.3)\n",
            "Collecting PyJWT\n",
            "  Downloading PyJWT-2.3.0-py3-none-any.whl (16 kB)\n",
            "Requirement already satisfied: greenlet>=0.4.14 in /usr/local/lib/python3.7/dist-packages (from gevent~=1.3->rasa_core) (1.1.2)\n",
            "Requirement already satisfied: MarkupSafe>=0.23 in /usr/local/lib/python3.7/dist-packages (from Jinja2<3.0,>=2.10.1->flask~=1.0->rasa_core) (2.0.1)\n",
            "Requirement already satisfied: importlib-metadata in /usr/local/lib/python3.7/dist-packages (from jsonpickle~=1.0->rasa_core) (4.10.1)\n",
            "Requirement already satisfied: pyparsing>=2.0.2 in /usr/local/lib/python3.7/dist-packages (from packaging~=18.0->rasa_core) (3.0.7)\n",
            "Requirement already satisfied: PyYAML>=3.11 in /usr/local/lib/python3.7/dist-packages (from pykwalify~=1.7.0->rasa_core) (3.13)\n",
            "Requirement already satisfied: docopt>=0.6.2 in /usr/local/lib/python3.7/dist-packages (from pykwalify~=1.7.0->rasa_core) (0.6.2)\n",
            "Collecting python-engineio>=3.2.0\n",
            "  Downloading python_engineio-4.3.1-py3-none-any.whl (52 kB)\n",
            "\u001b[K     |████████████████████████████████| 52 kB 1.2 MB/s \n",
            "\u001b[?25hRequirement already satisfied: certifi in /usr/local/lib/python3.7/dist-packages (from python-telegram-bot~=11.0->rasa_core) (2021.10.8)\n",
            "Collecting cryptography\n",
            "  Downloading cryptography-36.0.1-cp36-abi3-manylinux_2_24_x86_64.whl (3.6 MB)\n",
            "\u001b[K     |████████████████████████████████| 3.6 MB 56.5 MB/s \n",
            "\u001b[?25hRequirement already satisfied: future>=0.16.0 in /usr/local/lib/python3.7/dist-packages (from python-telegram-bot~=11.0->rasa_core) (0.17.1)\n",
            "Requirement already satisfied: prompt_toolkit<4.0,>=2.0 in /usr/local/lib/python3.7/dist-packages (from questionary>=1.0.1->rasa_core) (3.0.27)\n",
            "Requirement already satisfied: wcwidth in /usr/local/lib/python3.7/dist-packages (from prompt_toolkit<4.0,>=2.0->questionary>=1.0.1->rasa_core) (0.2.5)\n",
            "Collecting ConfigArgParse~=0.13.0\n",
            "  Downloading ConfigArgParse-0.13.0.tar.gz (31 kB)\n",
            "Requirement already satisfied: cloudpickle~=0.6.1 in /usr/local/lib/python3.7/dist-packages (from rasa-nlu~=0.15->rasa_core) (0.6.1)\n",
            "Requirement already satisfied: matplotlib~=2.2 in /usr/local/lib/python3.7/dist-packages (from rasa-nlu~=0.15->rasa_core) (2.2.5)\n",
            "Requirement already satisfied: simplejson~=3.13 in /usr/local/lib/python3.7/dist-packages (from rasa-nlu~=0.15->rasa_core) (3.17.6)\n",
            "Requirement already satisfied: klein~=17.10 in /usr/local/lib/python3.7/dist-packages (from rasa-nlu~=0.15->rasa_core) (17.10.0)\n",
            "Requirement already satisfied: boto3~=1.9 in /usr/local/lib/python3.7/dist-packages (from rasa-nlu~=0.15->rasa_core) (1.20.52)\n",
            "Requirement already satisfied: botocore<1.24.0,>=1.23.52 in /usr/local/lib/python3.7/dist-packages (from boto3~=1.9->rasa-nlu~=0.15->rasa_core) (1.23.52)\n",
            "Requirement already satisfied: jmespath<1.0.0,>=0.7.1 in /usr/local/lib/python3.7/dist-packages (from boto3~=1.9->rasa-nlu~=0.15->rasa_core) (0.10.0)\n",
            "Requirement already satisfied: s3transfer<0.6.0,>=0.5.0 in /usr/local/lib/python3.7/dist-packages (from boto3~=1.9->rasa-nlu~=0.15->rasa_core) (0.5.1)\n",
            "Requirement already satisfied: urllib3<1.27,>=1.25.4 in /usr/local/lib/python3.7/dist-packages (from botocore<1.24.0,>=1.23.52->boto3~=1.9->rasa-nlu~=0.15->rasa_core) (1.25.11)\n",
            "Requirement already satisfied: incremental in /usr/local/lib/python3.7/dist-packages (from klein~=17.10->rasa-nlu~=0.15->rasa_core) (21.3.0)\n",
            "Requirement already satisfied: Twisted>=15.5 in /usr/local/lib/python3.7/dist-packages (from klein~=17.10->rasa-nlu~=0.15->rasa_core) (22.1.0)\n",
            "Requirement already satisfied: cycler>=0.10 in /usr/local/lib/python3.7/dist-packages (from matplotlib~=2.2->rasa-nlu~=0.15->rasa_core) (0.11.0)\n",
            "Requirement already satisfied: kiwisolver>=1.0.1 in /usr/local/lib/python3.7/dist-packages (from matplotlib~=2.2->rasa-nlu~=0.15->rasa_core) (1.3.2)\n",
            "Requirement already satisfied: chardet<4,>=3.0.2 in /usr/local/lib/python3.7/dist-packages (from requests~=2.20->rasa_core) (3.0.4)\n",
            "Requirement already satisfied: idna<3,>=2.5 in /usr/local/lib/python3.7/dist-packages (from requests~=2.20->rasa_core) (2.10)\n",
            "Collecting websocket-client<0.55.0,>=0.35\n",
            "  Downloading websocket_client-0.54.0-py2.py3-none-any.whl (200 kB)\n",
            "\u001b[K     |████████████████████████████████| 200 kB 44.1 MB/s \n",
            "\u001b[?25hRequirement already satisfied: keras-preprocessing>=1.0.5 in /usr/local/lib/python3.7/dist-packages (from tensorflow~=1.13.0->rasa_core) (1.1.2)\n",
            "Requirement already satisfied: gast>=0.2.0 in /usr/local/lib/python3.7/dist-packages (from tensorflow~=1.13.0->rasa_core) (0.4.0)\n",
            "Collecting tensorboard<1.14.0,>=1.13.0\n",
            "  Downloading tensorboard-1.13.1-py3-none-any.whl (3.2 MB)\n",
            "\u001b[K     |████████████████████████████████| 3.2 MB 46.5 MB/s \n",
            "\u001b[?25hRequirement already satisfied: termcolor>=1.1.0 in /usr/local/lib/python3.7/dist-packages (from tensorflow~=1.13.0->rasa_core) (1.1.0)\n",
            "Requirement already satisfied: protobuf>=3.6.1 in /usr/local/lib/python3.7/dist-packages (from tensorflow~=1.13.0->rasa_core) (3.17.3)\n",
            "Requirement already satisfied: wheel>=0.26 in /usr/local/lib/python3.7/dist-packages (from tensorflow~=1.13.0->rasa_core) (0.37.1)\n",
            "Collecting keras-applications>=1.0.6\n",
            "  Downloading Keras_Applications-1.0.8-py3-none-any.whl (50 kB)\n",
            "\u001b[K     |████████████████████████████████| 50 kB 6.4 MB/s \n",
            "\u001b[?25hCollecting tensorflow-estimator<1.14.0rc0,>=1.13.0\n",
            "  Downloading tensorflow_estimator-1.13.0-py2.py3-none-any.whl (367 kB)\n",
            "\u001b[K     |████████████████████████████████| 367 kB 70.3 MB/s \n",
            "\u001b[?25hRequirement already satisfied: astor>=0.6.0 in /usr/local/lib/python3.7/dist-packages (from tensorflow~=1.13.0->rasa_core) (0.8.1)\n",
            "Requirement already satisfied: grpcio>=1.8.6 in /usr/local/lib/python3.7/dist-packages (from tensorflow~=1.13.0->rasa_core) (1.43.0)\n",
            "Requirement already satisfied: absl-py>=0.1.6 in /usr/local/lib/python3.7/dist-packages (from tensorflow~=1.13.0->rasa_core) (1.0.0)\n",
            "Requirement already satisfied: h5py in /usr/local/lib/python3.7/dist-packages (from keras-applications>=1.0.6->tensorflow~=1.13.0->rasa_core) (3.1.0)\n",
            "Requirement already satisfied: markdown>=2.6.8 in /usr/local/lib/python3.7/dist-packages (from tensorboard<1.14.0,>=1.13.0->tensorflow~=1.13.0->rasa_core) (3.3.6)\n",
            "Requirement already satisfied: zipp>=0.5 in /usr/local/lib/python3.7/dist-packages (from importlib-metadata->jsonpickle~=1.0->rasa_core) (3.7.0)\n",
            "Requirement already satisfied: typing-extensions>=3.6.4 in /usr/local/lib/python3.7/dist-packages (from importlib-metadata->jsonpickle~=1.0->rasa_core) (3.10.0.2)\n",
            "Collecting mock>=2.0.0\n",
            "  Downloading mock-4.0.3-py3-none-any.whl (28 kB)\n",
            "Collecting PyJWT\n",
            "  Downloading PyJWT-1.7.1-py2.py3-none-any.whl (18 kB)\n",
            "Requirement already satisfied: constantly>=15.1 in /usr/local/lib/python3.7/dist-packages (from Twisted>=15.5->klein~=17.10->rasa-nlu~=0.15->rasa_core) (15.1.0)\n",
            "Requirement already satisfied: attrs>=19.2.0 in /usr/local/lib/python3.7/dist-packages (from Twisted>=15.5->klein~=17.10->rasa-nlu~=0.15->rasa_core) (21.4.0)\n",
            "Requirement already satisfied: hyperlink>=17.1.1 in /usr/local/lib/python3.7/dist-packages (from Twisted>=15.5->klein~=17.10->rasa-nlu~=0.15->rasa_core) (21.0.0)\n",
            "Requirement already satisfied: zope.interface>=4.4.2 in /usr/local/lib/python3.7/dist-packages (from Twisted>=15.5->klein~=17.10->rasa-nlu~=0.15->rasa_core) (5.4.0)\n",
            "Requirement already satisfied: Automat>=0.8.0 in /usr/local/lib/python3.7/dist-packages (from Twisted>=15.5->klein~=17.10->rasa-nlu~=0.15->rasa_core) (20.2.0)\n",
            "Collecting backports.zoneinfo\n",
            "  Downloading backports.zoneinfo-0.2.1-cp37-cp37m-manylinux1_x86_64.whl (70 kB)\n",
            "\u001b[K     |████████████████████████████████| 70 kB 7.6 MB/s \n",
            "\u001b[?25hCollecting pytz-deprecation-shim\n",
            "  Downloading pytz_deprecation_shim-0.1.0.post0-py2.py3-none-any.whl (15 kB)\n",
            "Collecting requests-toolbelt\n",
            "  Downloading requests_toolbelt-0.9.1-py2.py3-none-any.whl (54 kB)\n",
            "\u001b[K     |████████████████████████████████| 54 kB 2.4 MB/s \n",
            "\u001b[?25hRequirement already satisfied: cffi>=1.12 in /usr/local/lib/python3.7/dist-packages (from cryptography->python-telegram-bot~=11.0->rasa_core) (1.15.0)\n",
            "Requirement already satisfied: pycparser in /usr/local/lib/python3.7/dist-packages (from cffi>=1.12->cryptography->python-telegram-bot~=11.0->rasa_core) (2.21)\n",
            "Requirement already satisfied: cached-property in /usr/local/lib/python3.7/dist-packages (from h5py->keras-applications>=1.0.6->tensorflow~=1.13.0->rasa_core) (1.5.2)\n",
            "Collecting tzdata\n",
            "  Downloading tzdata-2021.5-py2.py3-none-any.whl (339 kB)\n",
            "\u001b[K     |████████████████████████████████| 339 kB 70.7 MB/s \n",
            "\u001b[?25hBuilding wheels for collected packages: flask-jwt-simple, mattermostwrapper, ConfigArgParse, slackclient, twilio\n",
            "  Building wheel for flask-jwt-simple (setup.py) ... \u001b[?25l\u001b[?25hdone\n",
            "  Created wheel for flask-jwt-simple: filename=Flask_JWT_Simple-0.0.3-py3-none-any.whl size=7999 sha256=57aea00f8c1a6559afa81234c232e82e4b18f2b636f6728b018d9e86ae4ab9f2\n",
            "  Stored in directory: /root/.cache/pip/wheels/e6/d9/a9/ee65b88c21cfe78040ea5c73a3a883dee0fe4688d5bf6244f8\n",
            "  Building wheel for mattermostwrapper (setup.py) ... \u001b[?25l\u001b[?25hdone\n",
            "  Created wheel for mattermostwrapper: filename=mattermostwrapper-2.2-py3-none-any.whl size=2465 sha256=1e46370acd43c5de86f06f92662c420cfda059c57a2020b50353f527e6c3472c\n",
            "  Stored in directory: /root/.cache/pip/wheels/b9/70/77/6c3f3c9a6f096f765d0767b21e73598d66c3b79cb7b09b62ad\n",
            "  Building wheel for ConfigArgParse (setup.py) ... \u001b[?25l\u001b[?25hdone\n",
            "  Created wheel for ConfigArgParse: filename=ConfigArgParse-0.13.0-py3-none-any.whl size=17585 sha256=085868f593aaebe41d5071edcd75928c2ad622ff65f852be3095247d83b9a8b5\n",
            "  Stored in directory: /root/.cache/pip/wheels/5b/99/57/8c6abae4405d50bce0fe75a0f3b12df717957be71578f9f0ce\n",
            "  Building wheel for slackclient (setup.py) ... \u001b[?25l\u001b[?25hdone\n",
            "  Created wheel for slackclient: filename=slackclient-1.3.2-py2.py3-none-any.whl size=19243 sha256=312f6f2422148d6f4e368a8af045b4352c27a27e6531a75b09fbdefd99b03269\n",
            "  Stored in directory: /root/.cache/pip/wheels/25/12/ae/6a9ac8b4b731c253e2fbc3f83ab13525250bc6527d5631e5fd\n",
            "  Building wheel for twilio (setup.py) ... \u001b[?25l\u001b[?25hdone\n",
            "  Created wheel for twilio: filename=twilio-6.63.2-py2.py3-none-any.whl size=1297626 sha256=a2d4234116b7d37fccbe0e93840a7cb29eb800eb90d733097a0ea95d15bb50cb\n",
            "  Stored in directory: /root/.cache/pip/wheels/aa/82/1f/441b359be7d9ec9212f494ca0ba60c70bb6858e69a013692ef\n",
            "Successfully built flask-jwt-simple mattermostwrapper ConfigArgParse slackclient twilio\n",
            "Installing collected packages: tzdata, backports.zoneinfo, pytz-deprecation-shim, mock, websocket-client, tzlocal, tensorflow-estimator, tensorboard, requests-toolbelt, redis, python-engineio, PyJWT, keras-applications, flask-cors, cryptography, ConfigArgParse, webexteamssdk, twilio, terminaltables, tensorflow, slackclient, rocketchat-API, rasa-core-sdk, questionary, python-telegram-bot, python-socketio, pymongo, pykwalify, pydot, pika, mattermostwrapper, jsonpickle, flask-jwt-simple, fbmessenger, fakeredis, colorhash, colorclass, apscheduler, rasa-core\n",
            "  Attempting uninstall: tzlocal\n",
            "    Found existing installation: tzlocal 1.5.1\n",
            "    Uninstalling tzlocal-1.5.1:\n",
            "      Successfully uninstalled tzlocal-1.5.1\n",
            "  Attempting uninstall: tensorflow-estimator\n",
            "    Found existing installation: tensorflow-estimator 2.7.0\n",
            "    Uninstalling tensorflow-estimator-2.7.0:\n",
            "      Successfully uninstalled tensorflow-estimator-2.7.0\n",
            "  Attempting uninstall: tensorboard\n",
            "    Found existing installation: tensorboard 2.7.0\n",
            "    Uninstalling tensorboard-2.7.0:\n",
            "      Successfully uninstalled tensorboard-2.7.0\n",
            "  Attempting uninstall: pymongo\n",
            "    Found existing installation: pymongo 4.0.1\n",
            "    Uninstalling pymongo-4.0.1:\n",
            "      Successfully uninstalled pymongo-4.0.1\n",
            "  Attempting uninstall: pydot\n",
            "    Found existing installation: pydot 1.3.0\n",
            "    Uninstalling pydot-1.3.0:\n",
            "      Successfully uninstalled pydot-1.3.0\n",
            "\u001b[31mERROR: pip's dependency resolver does not currently take into account all the packages that are installed. This behaviour is the source of the following dependency conflicts.\n",
            "kapre 0.3.7 requires tensorflow>=2.0.0, but you have tensorflow 1.13.2 which is incompatible.\u001b[0m\n",
            "Successfully installed ConfigArgParse-0.13.0 PyJWT-1.7.1 apscheduler-3.8.1 backports.zoneinfo-0.2.1 colorclass-2.2.2 colorhash-1.0.4 cryptography-36.0.1 fakeredis-0.10.3 fbmessenger-5.6.0 flask-cors-3.0.10 flask-jwt-simple-0.0.3 jsonpickle-1.5.2 keras-applications-1.0.8 mattermostwrapper-2.2 mock-4.0.3 pika-0.12.0 pydot-1.4.2 pykwalify-1.7.0 pymongo-3.12.3 python-engineio-4.3.1 python-socketio-3.1.2 python-telegram-bot-11.1.0 pytz-deprecation-shim-0.1.0.post0 questionary-1.10.0 rasa-core-0.14.5 rasa-core-sdk-0.14.0 redis-2.10.6 requests-toolbelt-0.9.1 rocketchat-API-0.6.36 slackclient-1.3.2 tensorboard-1.13.1 tensorflow-1.13.2 tensorflow-estimator-1.13.0 terminaltables-3.1.10 twilio-6.63.2 tzdata-2021.5 tzlocal-4.1 webexteamssdk-1.6 websocket-client-0.54.0\n"
          ]
        }
      ]
    },
    {
      "cell_type": "code",
      "metadata": {
        "colab": {
          "base_uri": "https://localhost:8080/",
          "height": 771
        },
        "id": "na7dvpL2tuuc",
        "outputId": "ff5c530a-67f1-43c6-a576-ad09eca3ce95"
      },
      "source": [
        "pip install -U ipython #restart runtime after installation and rerun previous cells."
      ],
      "execution_count": null,
      "outputs": [
        {
          "output_type": "stream",
          "name": "stdout",
          "text": [
            "Requirement already satisfied: ipython in /usr/local/lib/python3.7/dist-packages (5.5.0)\n",
            "Collecting ipython\n",
            "  Downloading ipython-7.31.1-py3-none-any.whl (792 kB)\n",
            "\u001b[K     |████████████████████████████████| 792 kB 25.5 MB/s \n",
            "\u001b[?25hRequirement already satisfied: jedi>=0.16 in /usr/local/lib/python3.7/dist-packages (from ipython) (0.18.1)\n",
            "Requirement already satisfied: pygments in /usr/local/lib/python3.7/dist-packages (from ipython) (2.6.1)\n",
            "Requirement already satisfied: backcall in /usr/local/lib/python3.7/dist-packages (from ipython) (0.2.0)\n",
            "Requirement already satisfied: matplotlib-inline in /usr/local/lib/python3.7/dist-packages (from ipython) (0.1.3)\n",
            "Requirement already satisfied: pickleshare in /usr/local/lib/python3.7/dist-packages (from ipython) (0.7.5)\n",
            "Requirement already satisfied: decorator in /usr/local/lib/python3.7/dist-packages (from ipython) (4.4.2)\n",
            "Requirement already satisfied: traitlets>=4.2 in /usr/local/lib/python3.7/dist-packages (from ipython) (5.1.1)\n",
            "Collecting prompt-toolkit!=3.0.0,!=3.0.1,<3.1.0,>=2.0.0\n",
            "  Downloading prompt_toolkit-3.0.27-py3-none-any.whl (380 kB)\n",
            "\u001b[K     |████████████████████████████████| 380 kB 50.3 MB/s \n",
            "\u001b[?25hRequirement already satisfied: setuptools>=18.5 in /usr/local/lib/python3.7/dist-packages (from ipython) (57.4.0)\n",
            "Requirement already satisfied: pexpect>4.3 in /usr/local/lib/python3.7/dist-packages (from ipython) (4.8.0)\n",
            "Requirement already satisfied: parso<0.9.0,>=0.8.0 in /usr/local/lib/python3.7/dist-packages (from jedi>=0.16->ipython) (0.8.3)\n",
            "Requirement already satisfied: ptyprocess>=0.5 in /usr/local/lib/python3.7/dist-packages (from pexpect>4.3->ipython) (0.7.0)\n",
            "Requirement already satisfied: wcwidth in /usr/local/lib/python3.7/dist-packages (from prompt-toolkit!=3.0.0,!=3.0.1,<3.1.0,>=2.0.0->ipython) (0.2.5)\n",
            "Installing collected packages: prompt-toolkit, ipython\n",
            "  Attempting uninstall: prompt-toolkit\n",
            "    Found existing installation: prompt-toolkit 1.0.18\n",
            "    Uninstalling prompt-toolkit-1.0.18:\n",
            "      Successfully uninstalled prompt-toolkit-1.0.18\n",
            "  Attempting uninstall: ipython\n",
            "    Found existing installation: ipython 5.5.0\n",
            "    Uninstalling ipython-5.5.0:\n",
            "      Successfully uninstalled ipython-5.5.0\n",
            "\u001b[31mERROR: pip's dependency resolver does not currently take into account all the packages that are installed. This behaviour is the source of the following dependency conflicts.\n",
            "jupyter-console 5.2.0 requires prompt-toolkit<2.0.0,>=1.0.0, but you have prompt-toolkit 3.0.27 which is incompatible.\n",
            "google-colab 1.0.0 requires ipython~=5.5.0, but you have ipython 7.31.1 which is incompatible.\u001b[0m\n",
            "Successfully installed ipython-7.31.1 prompt-toolkit-3.0.27\n"
          ]
        },
        {
          "output_type": "display_data",
          "data": {
            "application/vnd.colab-display-data+json": {
              "pip_warning": {
                "packages": [
                  "IPython",
                  "prompt_toolkit"
                ]
              }
            }
          },
          "metadata": {}
        }
      ]
    },
    {
      "cell_type": "markdown",
      "metadata": {
        "id": "5dKOnShnQgmX"
      },
      "source": [
        "Import rasa_core, rasa_nlu spacy and sys\n",
        "\n"
      ]
    },
    {
      "cell_type": "code",
      "metadata": {
        "id": "9Fe3sBaQTTl2"
      },
      "source": [
        "import rasa_core\n",
        "import rasa_nlu\n",
        "import spacy"
      ],
      "execution_count": null,
      "outputs": []
    },
    {
      "cell_type": "code",
      "metadata": {
        "id": "s6t_iVs3bMHt"
      },
      "source": [
        "import sys\n",
        "python = sys.executable"
      ],
      "execution_count": null,
      "outputs": []
    },
    {
      "cell_type": "markdown",
      "metadata": {
        "id": "NT2yPS2GQsjh"
      },
      "source": [
        "download en_core_web_md, a medium-sized english model trained on written web text."
      ]
    },
    {
      "cell_type": "code",
      "metadata": {
        "colab": {
          "base_uri": "https://localhost:8080/"
        },
        "id": "dlAxEnncnXCB",
        "outputId": "626d6ffe-9ba4-4feb-83a6-98a70bbb733c"
      },
      "source": [
        "!python -m spacy download en_core_web_md"
      ],
      "execution_count": null,
      "outputs": [
        {
          "output_type": "stream",
          "name": "stdout",
          "text": [
            "Collecting en_core_web_md==2.0.0\n",
            "  Downloading https://github.com/explosion/spacy-models/releases/download/en_core_web_md-2.0.0/en_core_web_md-2.0.0.tar.gz (120.8 MB)\n",
            "\u001b[K     |████████████████████████████████| 120.8 MB 1.3 MB/s \n",
            "\u001b[?25h\n",
            "\u001b[93m    Linking successful\u001b[0m\n",
            "    /usr/local/lib/python3.7/dist-packages/en_core_web_md -->\n",
            "    /usr/local/lib/python3.7/dist-packages/spacy/data/en_core_web_md\n",
            "\n",
            "    You can now load the model via spacy.load('en_core_web_md')\n",
            "\n"
          ]
        }
      ]
    },
    {
      "cell_type": "markdown",
      "metadata": {
        "id": "PWiAfbaWRdUz"
      },
      "source": [
        "Declearation of intent and sample words/phrases/sentences which refer to the intention decleared, which will be stored inside nlu.md. In other words, these are sample phrases whcih the chatbot will learn from for each intent."
      ]
    },
    {
      "cell_type": "code",
      "metadata": {
        "id": "nOjwGdZLndBN",
        "colab": {
          "base_uri": "https://localhost:8080/"
        },
        "outputId": "ae279f5e-8f54-4d91-8c10-43a94ce66248"
      },
      "source": [
        "# 1. Section_Intent\n",
        "# Writing various intents with examples to nlu.md file\n",
        "\n",
        "nlu_md = \"\"\"\n",
        "## intent:greet\n",
        "- hey\n",
        "- hello there\n",
        "- hi\n",
        "- hello there\n",
        "- good morning\n",
        "- good evening\n",
        "- how far\n",
        "- hey there\n",
        "- whats up\n",
        "- hey dude\n",
        "- goodmorning\n",
        "- goodevening\n",
        "- good afternoon\n",
        "\n",
        "## intent:goodbye\n",
        "- good by\n",
        "- later\n",
        "- good night\n",
        "- good afternoon\n",
        "- bye\n",
        "- goodbye\n",
        "- have a nice day\n",
        "- see you around\n",
        "- bye bye\n",
        "- see you later\n",
        "\n",
        "## intent:groceries\n",
        "- Where can I get groceries?\t\t\t\n",
        "- I need Sukuma Wiki\n",
        "- How to get Oranges?\n",
        "- When to get Oranges?\n",
        "- Where to get Bananas?\n",
        "- I need Bananas\t\t\t\n",
        "\n",
        "\n",
        "## intent:directions\n",
        "- how do i get to\n",
        "- i need to get to\n",
        "- is there a bus to\n",
        "- how i go take reach\n",
        "- I need directions to\n",
        "- how do i get a cab\n",
        "- where can i get a taxi\n",
        "- where can i get a bus\n",
        "-i need to get somewhere\n",
        "-I am going somewhere\n",
        "\n",
        "## intent:choosing_item\n",
        "- 1\n",
        "- 2\n",
        "- 3\n",
        "- 4\n",
        "- 5\n",
        "- 6\n",
        "- 7\n",
        "\n",
        "## intent:accomodation_enquiry\n",
        "- Where is the nearest hotel ?\n",
        "- is there a hotel near by ?\n",
        "- shey hotel they this area ?\n",
        "- Where i fit crash for here ?\n",
        "- i want to get to a hotel\n",
        "- i need to get to a hotel\n",
        "- where can i spend the night ?\n",
        "\n",
        "## intent: restaurant_enquiry\n",
        "- i need to get food\n",
        "- i am hungry\n",
        "- where is the restaurant ?\n",
        "- is there a restaurant ?\n",
        "- where can i get water ?\n",
        "- where i fit buy food for here ?\n",
        "- is there a food court nearby ?\n",
        "- where them they sell food ?\n",
        "- I want chop\n",
        "- where is the nearest shop?\n",
        "- where can i eat ?\n",
        "- i need to eat \n",
        "- are there eatries around ?\n",
        "- where can i buy snacks ?\n",
        "- I want to buy food\n",
        "\n",
        "\n",
        "## intent:toilet_enquiry\n",
        "- i neeed to pee\n",
        "- where is the rest room?\n",
        "- where is the toilet\n",
        "- is there a nearby toilet?\n",
        "- i they find toilet\n",
        "- where is the bathroom\n",
        "- i need to use the bathroom\n",
        "- where can i pee\n",
        "- i want peace\n",
        "- i am pressed\n",
        "\n",
        "\n",
        " \n",
        "\n",
        "\"\"\"\n",
        "\n",
        "\n",
        "%store nlu_md >nlu.md"
      ],
      "execution_count": null,
      "outputs": [
        {
          "output_type": "stream",
          "name": "stdout",
          "text": [
            "Writing 'nlu_md' (str) to file 'nlu.md'.\n"
          ]
        }
      ]
    },
    {
      "cell_type": "markdown",
      "metadata": {
        "id": "ovpaAACTSSTY"
      },
      "source": [
        "Setting up our configuration for our pipeline and policies"
      ]
    },
    {
      "cell_type": "code",
      "metadata": {
        "colab": {
          "base_uri": "https://localhost:8080/"
        },
        "id": "wmfWtkbsuZ0i",
        "outputId": "7c6c6507-4c93-4ab0-fb97-2741eebd4361"
      },
      "source": [
        "# Adding the NLU components to the pipeline in config.yml file\n",
        "config = \"\"\"\n",
        "language: \"en_core_web_md\"\n",
        "\n",
        "pipeline:\n",
        "- name: \"nlp_spacy\"                   # loads the spacy language model\n",
        "- name: \"tokenizer_spacy\"             # splits the sentence into tokens\n",
        "- name: \"ner_crf\"                     # uses the pretrained spacy NER model\n",
        "- name: \"intent_featurizer_spacy\"     # transform the sentence into a vector representation\n",
        "- name: \"intent_classifier_sklearn\"   # uses the vector representation to classify using SVM\n",
        "- name: \"ner_synonyms\"                # trains the synonyms\n",
        "\n",
        "policies:\n",
        "- name: \"RulePolicy\"\n",
        "  # Confidence threshold for the `core_fallback_action_name` to apply.\n",
        "  # The action will apply if no other action was predicted with\n",
        "  # a confidence >= core_fallback_threshold\n",
        "  core_fallback_threshold: 0.68\n",
        "  core_fallback_action_name: \"action_default_fallback\"\n",
        "  enable_fallback_prediction: True\n",
        "\n",
        "\n",
        "\"\"\" \n",
        "\n",
        "%store config >config.yml"
      ],
      "execution_count": null,
      "outputs": [
        {
          "output_type": "stream",
          "name": "stdout",
          "text": [
            "Writing 'config' (str) to file 'config.yml'.\n"
          ]
        }
      ]
    },
    {
      "cell_type": "markdown",
      "metadata": {
        "id": "LqYxBhUyrsar"
      },
      "source": [
        "# Training the model\n",
        "Import the load_data and config modules so as to load the training data file and config file respectiely, which would be fed to the Trainer module to train the model."
      ]
    },
    {
      "cell_type": "code",
      "metadata": {
        "colab": {
          "base_uri": "https://localhost:8080/"
        },
        "id": "-6kTAyc_wjrI",
        "outputId": "dfd527d8-8aa3-41e2-c61f-f45d8e3fa71d"
      },
      "source": [
        "# Import modules for training\n",
        "from rasa_nlu.training_data import load_data\n",
        "from rasa_nlu.config import RasaNLUModelConfig\n",
        "from rasa_nlu.model import Trainer\n",
        "from rasa_nlu import config\n",
        "\n",
        "# loading the nlu training samples\n",
        "training_data = load_data(\"nlu.md\")\n",
        "trainer = Trainer(config.load(\"config.yml\"))\n",
        "\n",
        "# training the nlu\n",
        "interpreter = trainer.train(training_data)\n",
        "model_directory = trainer.persist(\"./models/nlu\", fixed_model_name=\"current\")"
      ],
      "execution_count": null,
      "outputs": [
        {
          "output_type": "stream",
          "name": "stdout",
          "text": [
            "Fitting 2 folds for each of 6 candidates, totalling 12 fits\n"
          ]
        },
        {
          "output_type": "stream",
          "name": "stderr",
          "text": [
            "[Parallel(n_jobs=1)]: Using backend SequentialBackend with 1 concurrent workers.\n",
            "[Parallel(n_jobs=1)]: Done  12 out of  12 | elapsed:    0.2s finished\n"
          ]
        }
      ]
    },
    {
      "cell_type": "markdown",
      "metadata": {
        "id": "y2FilhqAr74r"
      },
      "source": [
        "Testing our model.\n",
        "The aim is to see how well it can predict intents, this would be then use to determind the appropriate response."
      ]
    },
    {
      "cell_type": "code",
      "metadata": {
        "colab": {
          "base_uri": "https://localhost:8080/"
        },
        "id": "McY2G4Gjwp3T",
        "outputId": "1d04ea5b-787e-4189-e67e-32c9ec626943"
      },
      "source": [
        " # Testing the NLU model with an input message\n",
        "\n",
        "import json\n",
        "def pprint(o):   \n",
        "    print(json.dumps(o, indent=2))\n",
        "\n",
        "pprint(interpreter.parse(\"x\"))"
      ],
      "execution_count": null,
      "outputs": [
        {
          "output_type": "stream",
          "name": "stdout",
          "text": [
            "{\n",
            "  \"intent\": {\n",
            "    \"name\": \"choosing_item\",\n",
            "    \"confidence\": 0.294445200525868\n",
            "  },\n",
            "  \"entities\": [],\n",
            "  \"intent_ranking\": [\n",
            "    {\n",
            "      \"name\": \"choosing_item\",\n",
            "      \"confidence\": 0.294445200525868\n",
            "    },\n",
            "    {\n",
            "      \"name\": \"toilet_enquiry\",\n",
            "      \"confidence\": 0.21256901379417378\n",
            "    },\n",
            "    {\n",
            "      \"name\": \"greet\",\n",
            "      \"confidence\": 0.17877914492087896\n",
            "    },\n",
            "    {\n",
            "      \"name\": \"restaurant_enquiry\",\n",
            "      \"confidence\": 0.10647927399987026\n",
            "    },\n",
            "    {\n",
            "      \"name\": \"accomodation_enquiry\",\n",
            "      \"confidence\": 0.06237876011102495\n",
            "    },\n",
            "    {\n",
            "      \"name\": \"goodbye\",\n",
            "      \"confidence\": 0.052651505966632935\n",
            "    },\n",
            "    {\n",
            "      \"name\": \"medicine\",\n",
            "      \"confidence\": 0.050814126226386466\n",
            "    },\n",
            "    {\n",
            "      \"name\": \"directions\",\n",
            "      \"confidence\": 0.04188297445516496\n",
            "    }\n",
            "  ],\n",
            "  \"text\": \"x\"\n",
            "}\n"
          ]
        }
      ]
    },
    {
      "cell_type": "markdown",
      "metadata": {
        "id": "TGZycj1ZtBvM"
      },
      "source": [
        "This is the second part of the project where we would be dealing with stories, actions and templates so our bot can respond to queries appropriately. Stories is a path which countains intents and their respective actions to be taken.\n",
        "Actions are the the responses we want our bot to give after identifying intent.\n",
        "Templates are where we store all the actions.\n",
        "Slots are our bots memories which help it keep track of events."
      ]
    },
    {
      "cell_type": "code",
      "metadata": {
        "id": "RXw_5ojnxLl4",
        "colab": {
          "base_uri": "https://localhost:8080/"
        },
        "outputId": "68212ebb-7053-42af-e20e-0723192c5871"
      },
      "source": [
        "# 2. Section_Intent/Action connection/mapping\n",
        "# Writing stories and saving it in the stories.md file\n",
        "\n",
        "stories_md = \"\"\"\n",
        "##  Greeting path             \n",
        "* greet              \n",
        "  - utter_greet\n",
        "\n",
        "## directions path\n",
        "* directions\n",
        "  - utter_menu\n",
        "* choosing_destination\n",
        "  - utter_destination_received\n",
        "\n",
        "## Enquires path\n",
        "* accomodation_enquiry\n",
        "  - utter_enquiry\n",
        "\n",
        "## medicine path\n",
        "* medicine\n",
        "  - utter_medicine_inquiry  \n",
        "\n",
        "## restaurant path\n",
        "* restaurant_enquiry\n",
        "  - utter_restaurant_enquiry\n",
        "\n",
        "\n",
        "## toilet path\n",
        "* toilet_enquiry\n",
        "  - utter_toilet_location\n",
        "\n",
        "\n",
        "## say goodbye\n",
        "* goodbye\n",
        "  - utter_goodbye\n",
        "\n",
        "## fallback rule\n",
        "* bot_fallback\n",
        "  - action_default_fallback\n",
        "\n",
        "\"\"\"\n",
        "\n",
        "%store stories_md >stories.md"
      ],
      "execution_count": null,
      "outputs": [
        {
          "output_type": "stream",
          "name": "stdout",
          "text": [
            "Writing 'stories_md' (str) to file 'stories.md'.\n"
          ]
        }
      ]
    },
    {
      "cell_type": "markdown",
      "metadata": {
        "id": "BEqlG5lCTKJn"
      },
      "source": [
        "The domain is where we link together all our files for the chatbot. The uttar_default action is he action to be taken when the confidence value of all possible intentions is below the thereshold value set inn our configuration file under the fallback policy."
      ]
    },
    {
      "cell_type": "code",
      "metadata": {
        "colab": {
          "base_uri": "https://localhost:8080/"
        },
        "id": "0AT7yIyMNtMe",
        "outputId": "b7a86c5e-edeb-4007-e2ed-10a7ea9f3136"
      },
      "source": [
        "# 3. Section_Action description (describe bot resposes)\n",
        "# Writing all the intents,slots,entities,actions and templates to domain.yml\n",
        "\n",
        "domain_yml = \"\"\"\n",
        "intents:\n",
        "- greet\n",
        "- goodbye\n",
        "- directions\n",
        "- choosing_item\n",
        "- accomodation_enquiry\n",
        "- restaurant_enquiry\n",
        "- toilet_enquiry\n",
        "- medicine\n",
        "\n",
        "slots:\n",
        "  group:\n",
        "    type: text\n",
        "\n",
        "entities:\n",
        "- group\n",
        "\n",
        "\n",
        "actions:\n",
        "- utter_greet\n",
        "- utter_menu\n",
        "- utter_destination_received\n",
        "- utter_enquiry\n",
        "- utter_toilet_location\n",
        "- utter_restaurant_enquiry\n",
        "- utter_goodbye\n",
        "- utter_default\n",
        "- utter_medicine_inquiry\n",
        "\n",
        "templates:\n",
        "  utter_greet:\n",
        "  - text: \"\\n\\n Universal Ai Diploma Bot: \\n\\n Hey! Welcome to NRC Kubwa terminal . How may I help you ? \\n\\n \\n\\n You:\"\n",
        "\n",
        "  utter_medicine_inquiry:\n",
        "  - text: \"\\n\\n Universal Ai Diploma Bot: \\n\\n Aspirin-Medicine can be found in our health store close by? \\n\\n You:\"\n",
        "  - text: \"\\n\\n Universal Ai Diploma Bot: \\n\\n Pills-Medicine are available this week \\n\\n You:\"\n",
        " \n",
        "  utter_menu:\n",
        "  - text: \"\\n\\n Universal Ai Diploma Bot: \\n\\n There is a bus terminal outside the station, it's just accross the road.  You can board a bus to the following destinations: \\n\\n 1. Wuse  2. Airport 3. Nyanya  4. Zuba  5. Asokoro  6. Maitama  7. Area one  8. Central area  8. Secretariat. \\n\\n Enter  the appropraite number to know when the next bus leaves the terminal. \\n\\n \\n\\n  You:\"\n",
        "\n",
        "  utter_destination_received:\n",
        "  - text: \"\\n\\n Universal Ai Diploma Bot: \\n\\n The next bus leaves in 15 minutes, do have a safe trip. \\n\\n \\n\\n You:\"\n",
        "\n",
        "  utter_goodbye:\n",
        "  - text: \"\\n\\n Universal Ai Diploma Bot: \\n\\n Thank you for choosing to transit with us. Waiting for your next visit. \\n\\n \\n\\n You:\"\n",
        "\n",
        "  utter_enquiry:\n",
        "  - text: \"\\n\\n Universal Ai Diploma Bot: \\n\\n Take a right turn from the exit, there are several hotels at your service. \\n\\n \\n\\n You:\"\n",
        "\n",
        "  utter_toilet_location:\n",
        "  - text: \"\\n\\n Universal Ai Diploma Bot: \\n\\n There is a toilet symbol on the extreme right from where you stand. \\n\\n \\n\\n You:\"\n",
        "\n",
        "  utter_restaurant_enquiry:\n",
        "  - text: \"\\n\\n Universal Ai Diploma Bot: \\n\\n There is a food court filled with a variety of rastaurants at the extreme left after the entrance. \\n\\n \\n\\n You: \"\n",
        "\n",
        "  utter_default:\n",
        "  - text: \"\\n\\n Universal Ai Diploma Bot: \\n\\n I'm sorry, I didn't quite understand that. Could you rephrase? \\n\\n You:\"\n",
        "\n",
        "\n",
        "\"\"\"\n",
        "\n",
        "%store domain_yml >domain.yml"
      ],
      "execution_count": null,
      "outputs": [
        {
          "output_type": "stream",
          "name": "stdout",
          "text": [
            "Writing 'domain_yml' (str) to file 'domain.yml'.\n"
          ]
        }
      ]
    },
    {
      "cell_type": "markdown",
      "metadata": {
        "id": "_Ho7iCP-UVTS"
      },
      "source": [
        "Here we import our policies and the Agent module. The Agent module is used to load the file, and passed to the 'agent' model. The 'agent' model is in turn trained with the data in the stories file."
      ]
    },
    {
      "cell_type": "code",
      "metadata": {
        "colab": {
          "base_uri": "https://localhost:8080/"
        },
        "id": "IftpE7U9Nybn",
        "outputId": "84df80cb-25fe-44a0-c0a1-f5dbdb6eaa70"
      },
      "source": [
        "# Import the policies and agent\n",
        "from rasa_core.policies import FallbackPolicy, MemoizationPolicy,KerasPolicy\n",
        "from rasa_core.agent import Agent\n",
        "\n",
        "# Initialize the model with `domain.yml`\n",
        "agent = Agent('domain.yml', policies=[MemoizationPolicy(), KerasPolicy(), ])\n",
        "\n",
        "# loading our  training dialogues from `stories.md` \n",
        "training_data = agent.load_data('stories.md')\n",
        "\n",
        "\n",
        "# Training the model\n",
        "agent.train(\n",
        "    training_data)\n",
        "    #validation_split=0.0,\n",
        "    #epochs=200)\n",
        "\n",
        "agent.persist('models/dialogue')"
      ],
      "execution_count": null,
      "outputs": [
        {
          "output_type": "stream",
          "name": "stderr",
          "text": [
            "Processed Story Blocks: 100%|██████████| 8/8 [00:00<00:00, 12.44it/s, # trackers=1]\n",
            "Processed Story Blocks: 100%|██████████| 8/8 [00:00<00:00, 253.22it/s, # trackers=8]\n",
            "Processed Story Blocks: 100%|██████████| 8/8 [00:00<00:00, 146.78it/s, # trackers=20]\n",
            "Processed Story Blocks: 100%|██████████| 8/8 [00:00<00:00, 137.79it/s, # trackers=18]\n",
            "Processed actions: 19it [00:00, 572.55it/s, # examples=19]\n"
          ]
        },
        {
          "output_type": "stream",
          "name": "stdout",
          "text": [
            "_________________________________________________________________\n",
            "Layer (type)                 Output Shape              Param #   \n",
            "=================================================================\n",
            "masking (Masking)            (None, 5, 27)             0         \n",
            "_________________________________________________________________\n",
            "lstm (LSTM)                  (None, 32)                7680      \n",
            "_________________________________________________________________\n",
            "dense (Dense)                (None, 17)                561       \n",
            "_________________________________________________________________\n",
            "activation (Activation)      (None, 17)                0         \n",
            "=================================================================\n",
            "Total params: 8,241\n",
            "Trainable params: 8,241\n",
            "Non-trainable params: 0\n",
            "_________________________________________________________________\n",
            "Epoch 1/100\n",
            "347/347 [==============================] - 1s 3ms/sample - loss: 2.7947 - acc: 0.1499\n",
            "Epoch 2/100\n",
            "347/347 [==============================] - 0s 282us/sample - loss: 2.6781 - acc: 0.4582\n",
            "Epoch 3/100\n",
            "347/347 [==============================] - 0s 292us/sample - loss: 2.5493 - acc: 0.5014\n",
            "Epoch 4/100\n",
            "347/347 [==============================] - 0s 296us/sample - loss: 2.3572 - acc: 0.5014\n",
            "Epoch 5/100\n",
            "347/347 [==============================] - 0s 257us/sample - loss: 2.1200 - acc: 0.5014\n",
            "Epoch 6/100\n",
            "347/347 [==============================] - 0s 266us/sample - loss: 1.9488 - acc: 0.5014\n",
            "Epoch 7/100\n",
            "347/347 [==============================] - 0s 281us/sample - loss: 1.8774 - acc: 0.5014\n",
            "Epoch 8/100\n",
            "347/347 [==============================] - 0s 252us/sample - loss: 1.8333 - acc: 0.5014\n",
            "Epoch 9/100\n",
            "347/347 [==============================] - 0s 267us/sample - loss: 1.7930 - acc: 0.5014\n",
            "Epoch 10/100\n",
            "347/347 [==============================] - 0s 255us/sample - loss: 1.7683 - acc: 0.5014\n",
            "Epoch 11/100\n",
            "347/347 [==============================] - 0s 271us/sample - loss: 1.7257 - acc: 0.5014\n",
            "Epoch 12/100\n",
            "347/347 [==============================] - 0s 294us/sample - loss: 1.7072 - acc: 0.5014\n",
            "Epoch 13/100\n",
            "347/347 [==============================] - 0s 273us/sample - loss: 1.6898 - acc: 0.5014\n",
            "Epoch 14/100\n",
            "347/347 [==============================] - 0s 293us/sample - loss: 1.6689 - acc: 0.5014\n",
            "Epoch 15/100\n",
            "347/347 [==============================] - 0s 276us/sample - loss: 1.6441 - acc: 0.5014\n",
            "Epoch 16/100\n",
            "347/347 [==============================] - 0s 261us/sample - loss: 1.6272 - acc: 0.5014\n",
            "Epoch 17/100\n",
            "347/347 [==============================] - 0s 300us/sample - loss: 1.6037 - acc: 0.5014\n",
            "Epoch 18/100\n",
            "347/347 [==============================] - 0s 258us/sample - loss: 1.5790 - acc: 0.5014\n",
            "Epoch 19/100\n",
            "347/347 [==============================] - 0s 285us/sample - loss: 1.5537 - acc: 0.5014\n",
            "Epoch 20/100\n",
            "347/347 [==============================] - 0s 263us/sample - loss: 1.5190 - acc: 0.5014\n",
            "Epoch 21/100\n",
            "347/347 [==============================] - 0s 261us/sample - loss: 1.4992 - acc: 0.5014\n",
            "Epoch 22/100\n",
            "347/347 [==============================] - 0s 315us/sample - loss: 1.4750 - acc: 0.5043\n",
            "Epoch 23/100\n",
            "347/347 [==============================] - 0s 254us/sample - loss: 1.4558 - acc: 0.5043\n",
            "Epoch 24/100\n",
            "347/347 [==============================] - 0s 325us/sample - loss: 1.4453 - acc: 0.5072\n",
            "Epoch 25/100\n",
            "347/347 [==============================] - 0s 287us/sample - loss: 1.3937 - acc: 0.5130\n",
            "Epoch 26/100\n",
            "347/347 [==============================] - 0s 276us/sample - loss: 1.3604 - acc: 0.5130\n",
            "Epoch 27/100\n",
            "347/347 [==============================] - 0s 282us/sample - loss: 1.3303 - acc: 0.5159\n",
            "Epoch 28/100\n",
            "347/347 [==============================] - 0s 256us/sample - loss: 1.2960 - acc: 0.5303\n",
            "Epoch 29/100\n",
            "347/347 [==============================] - 0s 275us/sample - loss: 1.2699 - acc: 0.5389\n",
            "Epoch 30/100\n",
            "347/347 [==============================] - 0s 262us/sample - loss: 1.2388 - acc: 0.5476\n",
            "Epoch 31/100\n",
            "347/347 [==============================] - 0s 272us/sample - loss: 1.1787 - acc: 0.5677\n",
            "Epoch 32/100\n",
            "347/347 [==============================] - 0s 285us/sample - loss: 1.1626 - acc: 0.6110\n",
            "Epoch 33/100\n",
            "347/347 [==============================] - 0s 291us/sample - loss: 1.1304 - acc: 0.6254\n",
            "Epoch 34/100\n",
            "347/347 [==============================] - 0s 294us/sample - loss: 1.0818 - acc: 0.7032\n",
            "Epoch 35/100\n",
            "347/347 [==============================] - 0s 263us/sample - loss: 1.0440 - acc: 0.7291\n",
            "Epoch 36/100\n",
            "347/347 [==============================] - 0s 277us/sample - loss: 1.0114 - acc: 0.7464\n",
            "Epoch 37/100\n",
            "347/347 [==============================] - 0s 256us/sample - loss: 0.9883 - acc: 0.7723\n",
            "Epoch 38/100\n",
            "347/347 [==============================] - 0s 271us/sample - loss: 0.9555 - acc: 0.8012\n",
            "Epoch 39/100\n",
            "347/347 [==============================] - 0s 272us/sample - loss: 0.9215 - acc: 0.8156\n",
            "Epoch 40/100\n",
            "347/347 [==============================] - 0s 283us/sample - loss: 0.8788 - acc: 0.8357\n",
            "Epoch 41/100\n",
            "347/347 [==============================] - 0s 284us/sample - loss: 0.8580 - acc: 0.8530\n",
            "Epoch 42/100\n",
            "347/347 [==============================] - 0s 259us/sample - loss: 0.8313 - acc: 0.8559\n",
            "Epoch 43/100\n",
            "347/347 [==============================] - 0s 263us/sample - loss: 0.8286 - acc: 0.8703\n",
            "Epoch 44/100\n",
            "347/347 [==============================] - 0s 305us/sample - loss: 0.7994 - acc: 0.8934\n",
            "Epoch 45/100\n",
            "347/347 [==============================] - 0s 274us/sample - loss: 0.7902 - acc: 0.8963\n",
            "Epoch 46/100\n",
            "347/347 [==============================] - 0s 272us/sample - loss: 0.7671 - acc: 0.8963\n",
            "Epoch 47/100\n",
            "347/347 [==============================] - 0s 279us/sample - loss: 0.7395 - acc: 0.9164\n",
            "Epoch 48/100\n",
            "347/347 [==============================] - 0s 295us/sample - loss: 0.7363 - acc: 0.9135\n",
            "Epoch 49/100\n",
            "347/347 [==============================] - 0s 320us/sample - loss: 0.7106 - acc: 0.9337\n",
            "Epoch 50/100\n",
            "347/347 [==============================] - 0s 264us/sample - loss: 0.6864 - acc: 0.9395\n",
            "Epoch 51/100\n",
            "347/347 [==============================] - 0s 268us/sample - loss: 0.6784 - acc: 0.9452\n",
            "Epoch 52/100\n",
            "347/347 [==============================] - 0s 264us/sample - loss: 0.6653 - acc: 0.9395\n",
            "Epoch 53/100\n",
            "347/347 [==============================] - 0s 308us/sample - loss: 0.6330 - acc: 0.9452\n",
            "Epoch 54/100\n",
            "347/347 [==============================] - 0s 253us/sample - loss: 0.6251 - acc: 0.9424\n",
            "Epoch 55/100\n",
            "347/347 [==============================] - 0s 296us/sample - loss: 0.5960 - acc: 0.9597\n",
            "Epoch 56/100\n",
            "347/347 [==============================] - 0s 269us/sample - loss: 0.5812 - acc: 0.9654\n",
            "Epoch 57/100\n",
            "347/347 [==============================] - 0s 295us/sample - loss: 0.5955 - acc: 0.9308\n",
            "Epoch 58/100\n",
            "347/347 [==============================] - 0s 275us/sample - loss: 0.5632 - acc: 0.9654\n",
            "Epoch 59/100\n",
            "347/347 [==============================] - 0s 268us/sample - loss: 0.5647 - acc: 0.9424\n",
            "Epoch 60/100\n",
            "347/347 [==============================] - 0s 291us/sample - loss: 0.5414 - acc: 0.9481\n",
            "Epoch 61/100\n",
            "347/347 [==============================] - 0s 286us/sample - loss: 0.5267 - acc: 0.9481\n",
            "Epoch 62/100\n",
            "347/347 [==============================] - 0s 279us/sample - loss: 0.5236 - acc: 0.9193\n",
            "Epoch 63/100\n",
            "347/347 [==============================] - 0s 313us/sample - loss: 0.4876 - acc: 0.9568\n",
            "Epoch 64/100\n",
            "347/347 [==============================] - 0s 260us/sample - loss: 0.4463 - acc: 0.9769\n",
            "Epoch 65/100\n",
            "347/347 [==============================] - 0s 266us/sample - loss: 0.4664 - acc: 0.9568\n",
            "Epoch 66/100\n",
            "347/347 [==============================] - 0s 278us/sample - loss: 0.4655 - acc: 0.9424\n",
            "Epoch 67/100\n",
            "347/347 [==============================] - 0s 283us/sample - loss: 0.4865 - acc: 0.9395\n",
            "Epoch 68/100\n",
            "347/347 [==============================] - 0s 305us/sample - loss: 0.4499 - acc: 0.9510\n",
            "Epoch 69/100\n",
            "347/347 [==============================] - 0s 264us/sample - loss: 0.4203 - acc: 0.9568\n",
            "Epoch 70/100\n",
            "347/347 [==============================] - 0s 288us/sample - loss: 0.4135 - acc: 0.9539\n",
            "Epoch 71/100\n",
            "347/347 [==============================] - 0s 306us/sample - loss: 0.4133 - acc: 0.9481\n",
            "Epoch 72/100\n",
            "347/347 [==============================] - 0s 267us/sample - loss: 0.3793 - acc: 0.9597\n",
            "Epoch 73/100\n",
            "347/347 [==============================] - 0s 311us/sample - loss: 0.3732 - acc: 0.9568\n",
            "Epoch 74/100\n",
            "347/347 [==============================] - 0s 299us/sample - loss: 0.3928 - acc: 0.9395\n",
            "Epoch 75/100\n",
            "347/347 [==============================] - 0s 266us/sample - loss: 0.3679 - acc: 0.9366\n",
            "Epoch 76/100\n",
            "347/347 [==============================] - 0s 277us/sample - loss: 0.3540 - acc: 0.9510\n",
            "Epoch 77/100\n",
            "347/347 [==============================] - 0s 270us/sample - loss: 0.3498 - acc: 0.9625\n",
            "Epoch 78/100\n",
            "347/347 [==============================] - 0s 281us/sample - loss: 0.3198 - acc: 0.9568\n",
            "Epoch 79/100\n",
            "347/347 [==============================] - 0s 275us/sample - loss: 0.3010 - acc: 0.9539\n",
            "Epoch 80/100\n",
            "347/347 [==============================] - 0s 275us/sample - loss: 0.3151 - acc: 0.9539\n",
            "Epoch 81/100\n",
            "347/347 [==============================] - 0s 289us/sample - loss: 0.3226 - acc: 0.9424\n",
            "Epoch 82/100\n",
            "347/347 [==============================] - 0s 287us/sample - loss: 0.2950 - acc: 0.9597\n",
            "Epoch 83/100\n",
            "347/347 [==============================] - 0s 309us/sample - loss: 0.3295 - acc: 0.9395\n",
            "Epoch 84/100\n",
            "347/347 [==============================] - 0s 261us/sample - loss: 0.2754 - acc: 0.9625\n",
            "Epoch 85/100\n",
            "347/347 [==============================] - 0s 265us/sample - loss: 0.3011 - acc: 0.9251\n",
            "Epoch 86/100\n",
            "347/347 [==============================] - 0s 262us/sample - loss: 0.2762 - acc: 0.9452\n",
            "Epoch 87/100\n",
            "347/347 [==============================] - 0s 285us/sample - loss: 0.2554 - acc: 0.9568\n",
            "Epoch 88/100\n",
            "347/347 [==============================] - 0s 270us/sample - loss: 0.2919 - acc: 0.9366\n",
            "Epoch 89/100\n",
            "347/347 [==============================] - 0s 291us/sample - loss: 0.2508 - acc: 0.9568\n",
            "Epoch 90/100\n",
            "347/347 [==============================] - 0s 294us/sample - loss: 0.2588 - acc: 0.9568\n",
            "Epoch 91/100\n",
            "347/347 [==============================] - 0s 283us/sample - loss: 0.2281 - acc: 0.9683\n",
            "Epoch 92/100\n",
            "347/347 [==============================] - 0s 301us/sample - loss: 0.2534 - acc: 0.9539\n",
            "Epoch 93/100\n",
            "347/347 [==============================] - 0s 270us/sample - loss: 0.2442 - acc: 0.9452\n",
            "Epoch 94/100\n",
            "347/347 [==============================] - 0s 285us/sample - loss: 0.2338 - acc: 0.9481\n",
            "Epoch 95/100\n",
            "347/347 [==============================] - 0s 283us/sample - loss: 0.2212 - acc: 0.9683\n",
            "Epoch 96/100\n",
            "347/347 [==============================] - 0s 265us/sample - loss: 0.2597 - acc: 0.9395\n",
            "Epoch 97/100\n",
            "347/347 [==============================] - 0s 265us/sample - loss: 0.2287 - acc: 0.9625\n",
            "Epoch 98/100\n",
            "347/347 [==============================] - 0s 268us/sample - loss: 0.1940 - acc: 0.9683\n",
            "Epoch 99/100\n",
            "347/347 [==============================] - 0s 307us/sample - loss: 0.2275 - acc: 0.9481\n",
            "Epoch 100/100\n",
            "347/347 [==============================] - 0s 272us/sample - loss: 0.2103 - acc: 0.9539\n"
          ]
        }
      ]
    },
    {
      "cell_type": "markdown",
      "metadata": {
        "id": "l8fggCl0U7W0"
      },
      "source": [
        "Install version 2.10.0 of h5py package"
      ]
    },
    {
      "cell_type": "code",
      "metadata": {
        "colab": {
          "base_uri": "https://localhost:8080/"
        },
        "id": "-LM7oL0kv3Iw",
        "outputId": "d71e48a9-806c-403c-907c-1c09e7506912"
      },
      "source": [
        "!pip uninstall h5py\n",
        "!pip install h5py==2.10.0"
      ],
      "execution_count": null,
      "outputs": [
        {
          "output_type": "stream",
          "name": "stdout",
          "text": [
            "Found existing installation: h5py 2.10.0\n",
            "Uninstalling h5py-2.10.0:\n",
            "  Would remove:\n",
            "    /usr/local/lib/python3.7/dist-packages/h5py-2.10.0.dist-info/*\n",
            "    /usr/local/lib/python3.7/dist-packages/h5py/*\n",
            "Proceed (y/n)? n\n",
            "Requirement already satisfied: h5py==2.10.0 in /usr/local/lib/python3.7/dist-packages (2.10.0)\n",
            "Requirement already satisfied: six in /usr/local/lib/python3.7/dist-packages (from h5py==2.10.0) (1.15.0)\n",
            "Requirement already satisfied: numpy>=1.7 in /usr/local/lib/python3.7/dist-packages (from h5py==2.10.0) (1.19.5)\n"
          ]
        }
      ]
    },
    {
      "cell_type": "markdown",
      "metadata": {
        "id": "2ZP69uZMVbSL"
      },
      "source": [
        "Load the trained model"
      ]
    },
    {
      "cell_type": "code",
      "metadata": {
        "id": "FelGadA5uZPh"
      },
      "source": [
        "#Starting the Bot\n",
        "from rasa_core.agent import Agent\n",
        "agent = Agent.load('models/dialogue', interpreter=model_directory)"
      ],
      "execution_count": null,
      "outputs": []
    },
    {
      "cell_type": "markdown",
      "metadata": {
        "id": "jxgGAybxVnG_"
      },
      "source": [
        "Write a function to tale inputs for the chatbot and gives out an output while stopping when 'stop' is typed in."
      ]
    },
    {
      "cell_type": "code",
      "metadata": {
        "colab": {
          "base_uri": "https://localhost:8080/",
          "height": 786
        },
        "id": "c1nOPTca0QBA",
        "outputId": "e4be5252-2222-4742-f655-d3629703e82e"
      },
      "source": [
        "print(\"Your bot is ready to talk! Type your messages here or send 'stop'\" + \"\\n\\n\" + \"You:\")\n",
        "while True:\n",
        "    a = input()\n",
        "    if a == 'stop':\n",
        "        break\n",
        "    responses = agent.handle_message(a)\n",
        "    for response in responses:\n",
        "        print(response[\"text\"])"
      ],
      "execution_count": null,
      "outputs": [
        {
          "metadata": {
            "tags": null
          },
          "name": "stdout",
          "output_type": "stream",
          "text": [
            "Your bot is ready to talk! Type your messages here or send 'stop'\n",
            "\n",
            "You:\n",
            "\n",
            "Universal Ai Diploma Bot:\n",
            "Hey! Welcome to NRC Kubwa terminal . How may I help you ?\n",
            "\n",
            "You:\n",
            "\n",
            "Universal Ai Diploma Bot:\n",
            "Pills-Medicine are available this week\n",
            "You:\n"
          ]
        },
        {
          "output_type": "error",
          "ename": "KeyboardInterrupt",
          "evalue": "ignored",
          "traceback": [
            "\u001b[0;31m---------------------------------------------------------------------------\u001b[0m",
            "\u001b[0;31mKeyboardInterrupt\u001b[0m                         Traceback (most recent call last)",
            "\u001b[0;32m/usr/local/lib/python3.7/dist-packages/ipykernel/kernelbase.py\u001b[0m in \u001b[0;36m_input_request\u001b[0;34m(self, prompt, ident, parent, password)\u001b[0m\n\u001b[1;32m    728\u001b[0m             \u001b[0;32mtry\u001b[0m\u001b[0;34m:\u001b[0m\u001b[0;34m\u001b[0m\u001b[0;34m\u001b[0m\u001b[0m\n\u001b[0;32m--> 729\u001b[0;31m                 \u001b[0mident\u001b[0m\u001b[0;34m,\u001b[0m \u001b[0mreply\u001b[0m \u001b[0;34m=\u001b[0m \u001b[0mself\u001b[0m\u001b[0;34m.\u001b[0m\u001b[0msession\u001b[0m\u001b[0;34m.\u001b[0m\u001b[0mrecv\u001b[0m\u001b[0;34m(\u001b[0m\u001b[0mself\u001b[0m\u001b[0;34m.\u001b[0m\u001b[0mstdin_socket\u001b[0m\u001b[0;34m,\u001b[0m \u001b[0;36m0\u001b[0m\u001b[0;34m)\u001b[0m\u001b[0;34m\u001b[0m\u001b[0;34m\u001b[0m\u001b[0m\n\u001b[0m\u001b[1;32m    730\u001b[0m             \u001b[0;32mexcept\u001b[0m \u001b[0mException\u001b[0m\u001b[0;34m:\u001b[0m\u001b[0;34m\u001b[0m\u001b[0;34m\u001b[0m\u001b[0m\n",
            "\u001b[0;32m/usr/local/lib/python3.7/dist-packages/jupyter_client/session.py\u001b[0m in \u001b[0;36mrecv\u001b[0;34m(self, socket, mode, content, copy)\u001b[0m\n\u001b[1;32m    802\u001b[0m         \u001b[0;32mtry\u001b[0m\u001b[0;34m:\u001b[0m\u001b[0;34m\u001b[0m\u001b[0;34m\u001b[0m\u001b[0m\n\u001b[0;32m--> 803\u001b[0;31m             \u001b[0mmsg_list\u001b[0m \u001b[0;34m=\u001b[0m \u001b[0msocket\u001b[0m\u001b[0;34m.\u001b[0m\u001b[0mrecv_multipart\u001b[0m\u001b[0;34m(\u001b[0m\u001b[0mmode\u001b[0m\u001b[0;34m,\u001b[0m \u001b[0mcopy\u001b[0m\u001b[0;34m=\u001b[0m\u001b[0mcopy\u001b[0m\u001b[0;34m)\u001b[0m\u001b[0;34m\u001b[0m\u001b[0;34m\u001b[0m\u001b[0m\n\u001b[0m\u001b[1;32m    804\u001b[0m         \u001b[0;32mexcept\u001b[0m \u001b[0mzmq\u001b[0m\u001b[0;34m.\u001b[0m\u001b[0mZMQError\u001b[0m \u001b[0;32mas\u001b[0m \u001b[0me\u001b[0m\u001b[0;34m:\u001b[0m\u001b[0;34m\u001b[0m\u001b[0;34m\u001b[0m\u001b[0m\n",
            "\u001b[0;32m/usr/local/lib/python3.7/dist-packages/zmq/sugar/socket.py\u001b[0m in \u001b[0;36mrecv_multipart\u001b[0;34m(self, flags, copy, track)\u001b[0m\n\u001b[1;32m    624\u001b[0m         \"\"\"\n\u001b[0;32m--> 625\u001b[0;31m         \u001b[0mparts\u001b[0m \u001b[0;34m=\u001b[0m \u001b[0;34m[\u001b[0m\u001b[0mself\u001b[0m\u001b[0;34m.\u001b[0m\u001b[0mrecv\u001b[0m\u001b[0;34m(\u001b[0m\u001b[0mflags\u001b[0m\u001b[0;34m,\u001b[0m \u001b[0mcopy\u001b[0m\u001b[0;34m=\u001b[0m\u001b[0mcopy\u001b[0m\u001b[0;34m,\u001b[0m \u001b[0mtrack\u001b[0m\u001b[0;34m=\u001b[0m\u001b[0mtrack\u001b[0m\u001b[0;34m)\u001b[0m\u001b[0;34m]\u001b[0m\u001b[0;34m\u001b[0m\u001b[0;34m\u001b[0m\u001b[0m\n\u001b[0m\u001b[1;32m    626\u001b[0m         \u001b[0;31m# have first part already, only loop while more to receive\u001b[0m\u001b[0;34m\u001b[0m\u001b[0;34m\u001b[0m\u001b[0;34m\u001b[0m\u001b[0m\n",
            "\u001b[0;32mzmq/backend/cython/socket.pyx\u001b[0m in \u001b[0;36mzmq.backend.cython.socket.Socket.recv\u001b[0;34m()\u001b[0m\n",
            "\u001b[0;32mzmq/backend/cython/socket.pyx\u001b[0m in \u001b[0;36mzmq.backend.cython.socket.Socket.recv\u001b[0;34m()\u001b[0m\n",
            "\u001b[0;32mzmq/backend/cython/socket.pyx\u001b[0m in \u001b[0;36mzmq.backend.cython.socket._recv_copy\u001b[0;34m()\u001b[0m\n",
            "\u001b[0;32m/usr/local/lib/python3.7/dist-packages/zmq/backend/cython/checkrc.pxd\u001b[0m in \u001b[0;36mzmq.backend.cython.checkrc._check_rc\u001b[0;34m()\u001b[0m\n",
            "\u001b[0;31mKeyboardInterrupt\u001b[0m: ",
            "\nDuring handling of the above exception, another exception occurred:\n",
            "\u001b[0;31mKeyboardInterrupt\u001b[0m                         Traceback (most recent call last)",
            "\u001b[0;32m<ipython-input-47-37a5012c6cc1>\u001b[0m in \u001b[0;36m<module>\u001b[0;34m\u001b[0m\n\u001b[1;32m      1\u001b[0m \u001b[0mprint\u001b[0m\u001b[0;34m(\u001b[0m\u001b[0;34m\"Your bot is ready to talk! Type your messages here or send 'stop'\"\u001b[0m \u001b[0;34m+\u001b[0m \u001b[0;34m\"\\n\\n\"\u001b[0m \u001b[0;34m+\u001b[0m \u001b[0;34m\"You:\"\u001b[0m\u001b[0;34m)\u001b[0m\u001b[0;34m\u001b[0m\u001b[0;34m\u001b[0m\u001b[0m\n\u001b[1;32m      2\u001b[0m \u001b[0;32mwhile\u001b[0m \u001b[0;32mTrue\u001b[0m\u001b[0;34m:\u001b[0m\u001b[0;34m\u001b[0m\u001b[0;34m\u001b[0m\u001b[0m\n\u001b[0;32m----> 3\u001b[0;31m     \u001b[0ma\u001b[0m \u001b[0;34m=\u001b[0m \u001b[0minput\u001b[0m\u001b[0;34m(\u001b[0m\u001b[0;34m)\u001b[0m\u001b[0;34m\u001b[0m\u001b[0;34m\u001b[0m\u001b[0m\n\u001b[0m\u001b[1;32m      4\u001b[0m     \u001b[0;32mif\u001b[0m \u001b[0ma\u001b[0m \u001b[0;34m==\u001b[0m \u001b[0;34m'stop'\u001b[0m\u001b[0;34m:\u001b[0m\u001b[0;34m\u001b[0m\u001b[0;34m\u001b[0m\u001b[0m\n\u001b[1;32m      5\u001b[0m         \u001b[0;32mbreak\u001b[0m\u001b[0;34m\u001b[0m\u001b[0;34m\u001b[0m\u001b[0m\n",
            "\u001b[0;32m/usr/local/lib/python3.7/dist-packages/ipykernel/kernelbase.py\u001b[0m in \u001b[0;36mraw_input\u001b[0;34m(self, prompt)\u001b[0m\n\u001b[1;32m    702\u001b[0m             \u001b[0mself\u001b[0m\u001b[0;34m.\u001b[0m\u001b[0m_parent_ident\u001b[0m\u001b[0;34m,\u001b[0m\u001b[0;34m\u001b[0m\u001b[0;34m\u001b[0m\u001b[0m\n\u001b[1;32m    703\u001b[0m             \u001b[0mself\u001b[0m\u001b[0;34m.\u001b[0m\u001b[0m_parent_header\u001b[0m\u001b[0;34m,\u001b[0m\u001b[0;34m\u001b[0m\u001b[0;34m\u001b[0m\u001b[0m\n\u001b[0;32m--> 704\u001b[0;31m             \u001b[0mpassword\u001b[0m\u001b[0;34m=\u001b[0m\u001b[0;32mFalse\u001b[0m\u001b[0;34m,\u001b[0m\u001b[0;34m\u001b[0m\u001b[0;34m\u001b[0m\u001b[0m\n\u001b[0m\u001b[1;32m    705\u001b[0m         )\n\u001b[1;32m    706\u001b[0m \u001b[0;34m\u001b[0m\u001b[0m\n",
            "\u001b[0;32m/usr/local/lib/python3.7/dist-packages/ipykernel/kernelbase.py\u001b[0m in \u001b[0;36m_input_request\u001b[0;34m(self, prompt, ident, parent, password)\u001b[0m\n\u001b[1;32m    732\u001b[0m             \u001b[0;32mexcept\u001b[0m \u001b[0mKeyboardInterrupt\u001b[0m\u001b[0;34m:\u001b[0m\u001b[0;34m\u001b[0m\u001b[0;34m\u001b[0m\u001b[0m\n\u001b[1;32m    733\u001b[0m                 \u001b[0;31m# re-raise KeyboardInterrupt, to truncate traceback\u001b[0m\u001b[0;34m\u001b[0m\u001b[0;34m\u001b[0m\u001b[0;34m\u001b[0m\u001b[0m\n\u001b[0;32m--> 734\u001b[0;31m                 \u001b[0;32mraise\u001b[0m \u001b[0mKeyboardInterrupt\u001b[0m\u001b[0;34m\u001b[0m\u001b[0;34m\u001b[0m\u001b[0m\n\u001b[0m\u001b[1;32m    735\u001b[0m             \u001b[0;32melse\u001b[0m\u001b[0;34m:\u001b[0m\u001b[0;34m\u001b[0m\u001b[0;34m\u001b[0m\u001b[0m\n\u001b[1;32m    736\u001b[0m                 \u001b[0;32mbreak\u001b[0m\u001b[0;34m\u001b[0m\u001b[0;34m\u001b[0m\u001b[0m\n",
            "\u001b[0;31mKeyboardInterrupt\u001b[0m: "
          ]
        }
      ]
    },
    {
      "cell_type": "code",
      "metadata": {
        "id": "1O086vj-kuqm"
      },
      "source": [
        ""
      ],
      "execution_count": null,
      "outputs": []
    }
  ]
}
